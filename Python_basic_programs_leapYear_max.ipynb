{
  "nbformat": 4,
  "nbformat_minor": 0,
  "metadata": {
    "colab": {
      "name": "Python_basic_programs_leapYear_max.ipynb",
      "provenance": [],
      "collapsed_sections": [],
      "authorship_tag": "ABX9TyOz2osZ57r0ul6FRDwCjPZZ",
      "include_colab_link": true
    },
    "kernelspec": {
      "name": "python3",
      "display_name": "Python 3"
    }
  },
  "cells": [
    {
      "cell_type": "markdown",
      "metadata": {
        "id": "view-in-github",
        "colab_type": "text"
      },
      "source": [
        "<a href=\"https://colab.research.google.com/github/EZCHORA/Python_rajan_codes/blob/main/Python_basic_programs_leapYear_max.ipynb\" target=\"_parent\"><img src=\"https://colab.research.google.com/assets/colab-badge.svg\" alt=\"Open In Colab\"/></a>"
      ]
    },
    {
      "cell_type": "code",
      "metadata": {
        "colab": {
          "base_uri": "https://localhost:8080/"
        },
        "id": "jO_YXZFohoZV",
        "outputId": "035a921d-e4fd-4438-8b1e-026fc802c1ba"
      },
      "source": [
        "a=1\r\n",
        "b=6\r\n",
        "c=4\r\n",
        "print(max(a,b,c))"
      ],
      "execution_count": 1,
      "outputs": [
        {
          "output_type": "stream",
          "text": [
            "6\n"
          ],
          "name": "stdout"
        }
      ]
    },
    {
      "cell_type": "code",
      "metadata": {
        "colab": {
          "base_uri": "https://localhost:8080/"
        },
        "id": "-pTffgaQkAFc",
        "outputId": "4b6d1480-0873-450e-c3eb-8547a3153a0a"
      },
      "source": [
        "lst=[1,2,3,4,5,6]\r\n",
        "max(lst)"
      ],
      "execution_count": 2,
      "outputs": [
        {
          "output_type": "execute_result",
          "data": {
            "text/plain": [
              "6"
            ]
          },
          "metadata": {
            "tags": []
          },
          "execution_count": 2
        }
      ]
    },
    {
      "cell_type": "code",
      "metadata": {
        "colab": {
          "base_uri": "https://localhost:8080/"
        },
        "id": "us4VB6dnlTRv",
        "outputId": "fec922cb-0abe-46bb-dd22-ae531d50b37e"
      },
      "source": [
        "n= 7\r\n",
        "\r\n",
        "print(round((n**0.5),4))"
      ],
      "execution_count": 7,
      "outputs": [
        {
          "output_type": "stream",
          "text": [
            "2.6458\n"
          ],
          "name": "stdout"
        }
      ]
    },
    {
      "cell_type": "markdown",
      "metadata": {
        "id": "hVME256xmbtR"
      },
      "source": [
        "program to find area of triangle"
      ]
    },
    {
      "cell_type": "code",
      "metadata": {
        "colab": {
          "base_uri": "https://localhost:8080/"
        },
        "id": "-W-slqRgmbO5",
        "outputId": "16bd4e33-f794-4691-b97f-b03018b8bc13"
      },
      "source": [
        "a=5\r\n",
        "b=4\r\n",
        "c=7\r\n",
        "s=a+b+c/2\r\n",
        "area= (s*(s-a)*(s-b)*(s-c))**0.5\r\n",
        "area=round(area,3)\r\n",
        "print(area)\r\n",
        "print(\"%0.2f\" %area)"
      ],
      "execution_count": 18,
      "outputs": [
        {
          "output_type": "stream",
          "text": [
            "66.203\n",
            "66.20\n"
          ],
          "name": "stdout"
        }
      ]
    },
    {
      "cell_type": "code",
      "metadata": {
        "colab": {
          "base_uri": "https://localhost:8080/"
        },
        "id": "2qJyu-wbnxuj",
        "outputId": "45f78599-9a6e-4665-985c-f2be19a4a57f"
      },
      "source": [
        "x,y=2,4\r\n",
        "x,y=y,x\r\n",
        "print(y,x,sep='\\n',end='\\n')"
      ],
      "execution_count": 23,
      "outputs": [
        {
          "output_type": "stream",
          "text": [
            "2\n",
            "4\n"
          ],
          "name": "stdout"
        }
      ]
    },
    {
      "cell_type": "code",
      "metadata": {
        "colab": {
          "base_uri": "https://localhost:8080/"
        },
        "id": "Ziia0DXdoPsA",
        "outputId": "46e0dbd6-0c44-4dfd-c7f3-6a46e4c94cfa"
      },
      "source": [
        "year =2012\r\n",
        "\r\n",
        "if year % 4==0:\r\n",
        "    if year % 100 ==0:\r\n",
        "        if year % 400 ==0:\r\n",
        "            print(\"yes\")\r\n",
        "        else:\r\n",
        "            print(\"nooooo\") \r\n",
        "    else:\r\n",
        "        print(\"yess\")\r\n",
        "else:\r\n",
        "    print(\"no\")                    \r\n",
        "\r\n",
        "\r\n",
        "             \r\n"
      ],
      "execution_count": 28,
      "outputs": [
        {
          "output_type": "stream",
          "text": [
            "yess\n"
          ],
          "name": "stdout"
        }
      ]
    }
  ]
}