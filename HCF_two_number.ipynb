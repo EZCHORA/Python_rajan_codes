{
  "nbformat": 4,
  "nbformat_minor": 0,
  "metadata": {
    "colab": {
      "name": "HCF_two_number.ipynb",
      "provenance": [],
      "authorship_tag": "ABX9TyN8zZriC9queVq2XmIii4z8",
      "include_colab_link": true
    },
    "kernelspec": {
      "name": "python3",
      "display_name": "Python 3"
    }
  },
  "cells": [
    {
      "cell_type": "markdown",
      "metadata": {
        "id": "view-in-github",
        "colab_type": "text"
      },
      "source": [
        "<a href=\"https://colab.research.google.com/github/EZCHORA/Python_rajan_codes/blob/main/HCF_two_number.ipynb\" target=\"_parent\"><img src=\"https://colab.research.google.com/assets/colab-badge.svg\" alt=\"Open In Colab\"/></a>"
      ]
    },
    {
      "cell_type": "code",
      "metadata": {
        "colab": {
          "base_uri": "https://localhost:8080/"
        },
        "id": "hYvu8TkUAurt",
        "outputId": "7466c299-61a6-4eaf-af63-43ec92f02ee6"
      },
      "source": [
        "# Function to find HCF the Using Euclidian algorithm\r\n",
        "def compute_hcf(x, y):\r\n",
        "   while(y):\r\n",
        "       x, y = y, x % y\r\n",
        "   return x\r\n",
        "\r\n",
        "hcf = compute_hcf(300, 400)\r\n",
        "print(\"The HCF is\", hcf)"
      ],
      "execution_count": 1,
      "outputs": [
        {
          "output_type": "stream",
          "text": [
            "The HCF is 100\n"
          ],
          "name": "stdout"
        }
      ]
    }
  ]
}