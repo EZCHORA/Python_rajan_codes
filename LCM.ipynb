{
  "nbformat": 4,
  "nbformat_minor": 0,
  "metadata": {
    "colab": {
      "name": "LCM.ipynb",
      "provenance": [],
      "collapsed_sections": [],
      "authorship_tag": "ABX9TyP/aeN/B2DYcPrBIpWrOZvY",
      "include_colab_link": true
    },
    "kernelspec": {
      "name": "python3",
      "display_name": "Python 3"
    }
  },
  "cells": [
    {
      "cell_type": "markdown",
      "metadata": {
        "id": "view-in-github",
        "colab_type": "text"
      },
      "source": [
        "<a href=\"https://colab.research.google.com/github/EZCHORA/Python_rajan_codes/blob/main/LCM.ipynb\" target=\"_parent\"><img src=\"https://colab.research.google.com/assets/colab-badge.svg\" alt=\"Open In Colab\"/></a>"
      ]
    },
    {
      "cell_type": "markdown",
      "metadata": {
        "id": "7T67A4qXHJc3"
      },
      "source": [
        "Number1 * Number2 = L.C.M. * G.C.D."
      ]
    },
    {
      "cell_type": "code",
      "metadata": {
        "id": "ugMWrM_gBZcb"
      },
      "source": [
        "# Python program to find the L.C.M. of two input number\r\n",
        "\r\n",
        "# This function computes GCD \r\n",
        "def compute_gcd(x, y):\r\n",
        "\r\n",
        "   while(y):\r\n",
        "       x, y = y, x % y\r\n",
        "   return x\r\n",
        "\r\n",
        "# This function computes LCM\r\n",
        "def compute_lcm(x, y):\r\n",
        "   lcm = (x*y)//compute_gcd(x,y)\r\n",
        "   return lcm\r\n",
        "\r\n",
        "num1 = 54\r\n",
        "num2 = 24 \r\n",
        "\r\n",
        "print(\"The L.C.M. is\", compute_lcm(num1, num2))"
      ],
      "execution_count": null,
      "outputs": []
    }
  ]
}