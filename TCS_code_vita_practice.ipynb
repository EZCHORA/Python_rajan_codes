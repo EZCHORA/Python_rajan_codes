{
  "nbformat": 4,
  "nbformat_minor": 0,
  "metadata": {
    "colab": {
      "name": "TCS_code_vita_practice.ipynb",
      "provenance": [],
      "collapsed_sections": [],
      "authorship_tag": "ABX9TyN0MFblNqAwZOKvWZtwAd65",
      "include_colab_link": true
    },
    "kernelspec": {
      "name": "python3",
      "display_name": "Python 3"
    }
  },
  "cells": [
    {
      "cell_type": "markdown",
      "metadata": {
        "id": "view-in-github",
        "colab_type": "text"
      },
      "source": [
        "<a href=\"https://colab.research.google.com/github/EZCHORA/Python_rajan_codes/blob/main/TCS_code_vita_practice.ipynb\" target=\"_parent\"><img src=\"https://colab.research.google.com/assets/colab-badge.svg\" alt=\"Open In Colab\"/></a>"
      ]
    },
    {
      "cell_type": "markdown",
      "metadata": {
        "id": "LxNRUbypxK4O"
      },
      "source": [
        "Print the first N terms of the series 6, 28, 66, 120, 190, 276, …\r\n",
        "Difficulty Level : Medium\r\n",
        " Last Updated : 14 Sep, 2020\r\n",
        "Given a number N, the task is to print the first N terms of the series 6, 28, 66, 120, 190, 276, and so on.\r\n",
        "Examples:\r\n",
        "\r\n",
        "Input: N = 10 \r\n",
        "Output: 6 28 66 120 190 276 378 496 630 780\r\n",
        "\r\n",
        "Input: N = 4 \r\n",
        "Output: 6 28 66 120\r\n",
        "\r\n",
        "Recommended: Please try your approach on {IDE} first, before moving on to the solution.\r\n",
        "Approach: To solve the problem mentioned above, we have to observe the below pattern:\r\n",
        "\r\n",
        "\r\n",
        "\r\n",
        "\r\n",
        "\r\n",
        "\r\n",
        "The general formula is given by: \r\n",
        "k * (2 * k – 1), where initially, k = 2\r\n",
        "\r\n",
        "Below is the implementation of the above approach:"
      ]
    },
    {
      "cell_type": "code",
      "metadata": {
        "colab": {
          "base_uri": "https://localhost:8080/"
        },
        "id": "DlZVOxlD4vz0",
        "outputId": "06185e9a-9abf-45c5-9299-c228b3a937f3"
      },
      "source": [
        "n= int(input(\"enter number of series\"))\r\n",
        "k=2\r\n",
        "for i in range(n):\r\n",
        "  print(k*(2*k-1),end=' ')\r\n",
        "  k=k+2"
      ],
      "execution_count": 9,
      "outputs": [
        {
          "output_type": "stream",
          "text": [
            "enter number of series10\n",
            "6 28 66 120 190 276 378 496 630 780 "
          ],
          "name": "stdout"
        }
      ]
    }
  ]
}