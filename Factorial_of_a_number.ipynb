{
  "nbformat": 4,
  "nbformat_minor": 0,
  "metadata": {
    "colab": {
      "name": "Factorial_of_a_number.ipynb",
      "provenance": [],
      "authorship_tag": "ABX9TyPio97Mb6D+yM46C/X8z1Eo",
      "include_colab_link": true
    },
    "kernelspec": {
      "name": "python3",
      "display_name": "Python 3"
    }
  },
  "cells": [
    {
      "cell_type": "markdown",
      "metadata": {
        "id": "view-in-github",
        "colab_type": "text"
      },
      "source": [
        "<a href=\"https://colab.research.google.com/github/EZCHORA/Python_rajan_codes/blob/main/Factorial_of_a_number.ipynb\" target=\"_parent\"><img src=\"https://colab.research.google.com/assets/colab-badge.svg\" alt=\"Open In Colab\"/></a>"
      ]
    },
    {
      "cell_type": "code",
      "metadata": {
        "colab": {
          "base_uri": "https://localhost:8080/"
        },
        "id": "4T-VW_drw-Jy",
        "outputId": "f8fecfde-c9d5-4847-c2c1-33e8c54aa32c"
      },
      "source": [
        "n = int(input(\"enter some number\"))\r\n",
        "fact=1\r\n",
        "if n<0:\r\n",
        "  print(\"no factorial of negative number\")\r\n",
        "elif n==0:\r\n",
        "  \r\n",
        "  print(1)\r\n",
        "else:\r\n",
        "    for i in range(1,n+1):\r\n",
        "        fact =fact*i\r\n",
        "    print(fact)           "
      ],
      "execution_count": 4,
      "outputs": [
        {
          "output_type": "stream",
          "text": [
            "enter some number5\n",
            "120\n"
          ],
          "name": "stdout"
        }
      ]
    }
  ]
}