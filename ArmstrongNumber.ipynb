{
  "nbformat": 4,
  "nbformat_minor": 0,
  "metadata": {
    "colab": {
      "name": "ArmstrongNumber.ipynb",
      "provenance": [],
      "collapsed_sections": [],
      "authorship_tag": "ABX9TyO5lrlyd36jInr6f44GXAXl",
      "include_colab_link": true
    },
    "kernelspec": {
      "name": "python3",
      "display_name": "Python 3"
    }
  },
  "cells": [
    {
      "cell_type": "markdown",
      "metadata": {
        "id": "view-in-github",
        "colab_type": "text"
      },
      "source": [
        "<a href=\"https://colab.research.google.com/github/EZCHORA/Python_rajan_codes/blob/main/ArmstrongNumber.ipynb\" target=\"_parent\"><img src=\"https://colab.research.google.com/assets/colab-badge.svg\" alt=\"Open In Colab\"/></a>"
      ]
    },
    {
      "cell_type": "code",
      "metadata": {
        "colab": {
          "base_uri": "https://localhost:8080/"
        },
        "id": "UWUda-hJ5e0Z",
        "outputId": "db6276d7-9e04-4e41-c31f-fc641a44043b"
      },
      "source": [
        "s =input()\r\n",
        "if (sum([int(i)**len(s) for i in s]) ==int(s)):\r\n",
        "  print(\"y\")\r\n",
        "else:\r\n",
        "  print(\"n\")  \r\n",
        "\r\n"
      ],
      "execution_count": 17,
      "outputs": [
        {
          "output_type": "stream",
          "text": [
            "1111\n",
            "n\n"
          ],
          "name": "stdout"
        }
      ]
    },
    {
      "cell_type": "code",
      "metadata": {
        "colab": {
          "base_uri": "https://localhost:8080/"
        },
        "id": "Sc2yfOri-t89",
        "outputId": "a70e71d5-34be-4ea3-ec88-57208004188d"
      },
      "source": [
        "s =input()\r\n",
        "print((sum([int(i)**len(s) for i in s]) ==int(s)))"
      ],
      "execution_count": 19,
      "outputs": [
        {
          "output_type": "stream",
          "text": [
            "153\n",
            "True\n"
          ],
          "name": "stdout"
        }
      ]
    }
  ]
}