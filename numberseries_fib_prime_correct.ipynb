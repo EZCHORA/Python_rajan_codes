{
  "nbformat": 4,
  "nbformat_minor": 0,
  "metadata": {
    "colab": {
      "name": "numberseries_fib_prime_correct.ipynb",
      "provenance": [],
      "collapsed_sections": [],
      "include_colab_link": true
    },
    "kernelspec": {
      "name": "python3",
      "display_name": "Python 3"
    }
  },
  "cells": [
    {
      "cell_type": "markdown",
      "metadata": {
        "id": "view-in-github",
        "colab_type": "text"
      },
      "source": [
        "<a href=\"https://colab.research.google.com/github/EZCHORA/Python_rajan_codes/blob/main/numberseries_fib_prime_correct.ipynb\" target=\"_parent\"><img src=\"https://colab.research.google.com/assets/colab-badge.svg\" alt=\"Open In Colab\"/></a>"
      ]
    },
    {
      "cell_type": "markdown",
      "metadata": {
        "id": "yMChNJZKbWPr"
      },
      "source": [
        "(TCS) 1, 2, 1, 3, 2, 5, 3, 7, 5, 11, 8, 13, 13, 17…..\r\n",
        "April 27, 2020\r\n",
        "\r\n",
        "Consider the below series:\r\n",
        "1, 2, 1, 3, 2, 5, 3, 7, 5, 11, 8, 13, 13, 17…..\r\n",
        "\r\n",
        "This series is a mixture of 2 series fail the odd terms in this series form a Fibonacci series and all the even terms are the prime numbers in ascending order\r\n",
        "\r\n",
        "Write a program to find the Nth term in this series\r\n",
        "\r\n",
        "The value N in a positive integer that should be read from mm. The Nth term that is calculated by the program should be written to STDOUT Otherthan the value of Nth term , no other characters / string or message should be written to STDOUT.\r\n",
        "\r\n",
        "For example, when N:14, the 14th term in the series is 17 So only the value 17 should be printed to STDOUT"
      ]
    },
    {
      "cell_type": "markdown",
      "metadata": {
        "id": "H18TfmWoYgkk"
      },
      "source": [
        "# correct code"
      ]
    },
    {
      "cell_type": "code",
      "metadata": {
        "colab": {
          "base_uri": "https://localhost:8080/"
        },
        "id": "ScElGTjghq-r",
        "outputId": "af5fa9d1-b704-4a9b-dec2-cfffd5e18730"
      },
      "source": [
        "n= int(input(\"number of terms\"))\r\n",
        "\r\n",
        "\r\n",
        "prime_list=[2]\r\n",
        "def prime_search(term):\r\n",
        "    x=3\r\n",
        "    while len(prime_list) <= term:\r\n",
        "        if all(x % y != 0 for y in range(2,x)):\r\n",
        "            prime_list.append(x)\r\n",
        "        x += 1\r\n",
        "    return prime_list[term-1]\r\n",
        "\r\n",
        "if n%2!=0:\r\n",
        "  n= n//2 +1\r\n",
        "  print(n)\r\n",
        "  a,b=0,1\r\n",
        "  for i in range(2,n+1):\r\n",
        "      c=a+b\r\n",
        "      a=b\r\n",
        "      b=c\r\n",
        "  print(b)\r\n",
        "\r\n",
        "else:\r\n",
        "  n= n//2\r\n",
        "  print(prime_search(n))\r\n",
        "\r\n",
        "\r\n"
      ],
      "execution_count": 64,
      "outputs": [
        {
          "output_type": "stream",
          "text": [
            "number of terms10\n",
            "11\n"
          ],
          "name": "stdout"
        }
      ]
    },
    {
      "cell_type": "code",
      "metadata": {
        "id": "Jca-ECNYXLgk"
      },
      "source": [
        "prime_list=[2]\r\n",
        "def prime_search(term):\r\n",
        "    x=3\r\n",
        "    while len(prime_list) <= term:\r\n",
        "        if all(x % y != 0 for y in range(2,x)):\r\n",
        "            prime_list.append(x)\r\n",
        "        x += 1\r\n",
        "    return prime_list[term-1]"
      ],
      "execution_count": 58,
      "outputs": []
    },
    {
      "cell_type": "code",
      "metadata": {
        "colab": {
          "base_uri": "https://localhost:8080/"
        },
        "id": "JO9TD_jUXNLN",
        "outputId": "0a40913f-06f5-4f0f-9e83-c34de283fc6b"
      },
      "source": [
        "prime_search(5)"
      ],
      "execution_count": 59,
      "outputs": [
        {
          "output_type": "execute_result",
          "data": {
            "text/plain": [
              "11"
            ]
          },
          "metadata": {
            "tags": []
          },
          "execution_count": 59
        }
      ]
    },
    {
      "cell_type": "code",
      "metadata": {
        "colab": {
          "base_uri": "https://localhost:8080/"
        },
        "id": "oDoxNdX5Coac",
        "outputId": "dd08a926-7373-4592-c471-da959b35a229"
      },
      "source": [
        "user=int(input())\r\n",
        "\r\n",
        "prime,fib=[],[]\r\n",
        "for l1 in range(0,user*100):\r\n",
        "  if l1>1:\r\n",
        "    for l2 in range(2,l1):\r\n",
        "      if l1%l2==0:\r\n",
        "          break\r\n",
        "    else:\r\n",
        "      prime.append(l1)\r\n",
        "      \r\n",
        "\r\n",
        "n1,n2=0,1\r\n",
        "fib.append(n2)\r\n",
        "for i in range(2,user*100):\r\n",
        "  total=n1+n2\r\n",
        "  n1=n2\r\n",
        "  n2=total\r\n",
        "  \r\n",
        "  fib.append(n2)\r\n",
        "\r\n",
        "prime=prime[:len(fib)]\r\n",
        "if user%2==0:\r\n",
        "  print(prime[(user//2)-1])\r\n",
        "else:\r\n",
        "  print(fib[(user//2)+1])\r\n",
        "if user%2==1:\r\n",
        "  print(fib[(user//2)])\r\n",
        "else:\r\n",
        "  print(prime[-1])\r\n",
        "\r\n"
      ],
      "execution_count": 48,
      "outputs": [
        {
          "output_type": "stream",
          "text": [
            "14\n",
            "17\n",
            "1399\n"
          ],
          "name": "stdout"
        }
      ]
    },
    {
      "cell_type": "markdown",
      "metadata": {
        "id": "1ETUTia7RKPQ"
      },
      "source": [
        "**prime number series**"
      ]
    },
    {
      "cell_type": "code",
      "metadata": {
        "colab": {
          "base_uri": "https://localhost:8080/"
        },
        "id": "-UIHx3EKKDBT",
        "outputId": "c4dd2ef3-015e-46fc-f4e8-0827dc14b7fc"
      },
      "source": [
        "lower = int(input(\"Enter lower range: \"))  \r\n",
        "upper = int(input(\"Enter upper range: \"))  \r\n",
        "  \r\n",
        "for num in range(lower,upper+1):  \r\n",
        "   if num > 1:  \r\n",
        "       for i in range(2,num):  \r\n",
        "           if (num % i) == 0:  \r\n",
        "               break  \r\n",
        "       else:  \r\n",
        "           print(num)  "
      ],
      "execution_count": 65,
      "outputs": [
        {
          "output_type": "stream",
          "text": [
            "Enter lower range: 1\n",
            "Enter upper range: 4\n",
            "2\n",
            "3\n"
          ],
          "name": "stdout"
        }
      ]
    },
    {
      "cell_type": "code",
      "metadata": {
        "colab": {
          "base_uri": "https://localhost:8080/"
        },
        "id": "je5VBGgOV-I6",
        "outputId": "aabc2eb9-bb42-4d90-8756-418c9df06218"
      },
      "source": [
        "term = int(input(\"What prime do you want to find?   \"))\r\n",
        "prime_list=[2]\r\n",
        "\r\n",
        "def prime_search(term):\r\n",
        "    x=3\r\n",
        "    while len(prime_list) <= term:\r\n",
        "        if all(x % y != 0 for y in range(2,x)):\r\n",
        "            prime_list.append(x)\r\n",
        "        x += 1\r\n",
        "    return prime_list[term-1]\r\n",
        "\r\n",
        "print(prime_search(term))"
      ],
      "execution_count": 52,
      "outputs": [
        {
          "output_type": "stream",
          "text": [
            "What prime do you want to find?   4\n",
            "7\n"
          ],
          "name": "stdout"
        }
      ]
    }
  ]
}